{
 "cells": [
  {
   "cell_type": "code",
   "execution_count": 2,
   "metadata": {},
   "outputs": [],
   "source": [
    "import os\n",
    "import sys\n",
    "BASE_DIR = '/data/code9/LZDSJTU/pointnet_pytorch/data_preparation'\n",
    "import indoor3d_util\n",
    "\n",
    "anno_paths = [line.rstrip() for line in open(os.path.join(BASE_DIR, 'meta/area5_anno_paths.txt'))]\n",
    "anno_paths = [os.path.join(indoor3d_util.DATA_PATH, p) for p in anno_paths]"
   ]
  },
  {
   "cell_type": "code",
   "execution_count": 3,
   "metadata": {},
   "outputs": [
    {
     "data": {
      "text/plain": [
       "['/data/code9/LZDSJTU/pointnet_pytorch/data_preparation/Stanford3dDataset_v1.2_Aligned_Version/Area_5/conferenceRoom_1/Annotations',\n",
       " '/data/code9/LZDSJTU/pointnet_pytorch/data_preparation/Stanford3dDataset_v1.2_Aligned_Version/Area_5/conferenceRoom_2/Annotations',\n",
       " '/data/code9/LZDSJTU/pointnet_pytorch/data_preparation/Stanford3dDataset_v1.2_Aligned_Version/Area_5/conferenceRoom_3/Annotations',\n",
       " '/data/code9/LZDSJTU/pointnet_pytorch/data_preparation/Stanford3dDataset_v1.2_Aligned_Version/Area_5/hallway_10/Annotations',\n",
       " '/data/code9/LZDSJTU/pointnet_pytorch/data_preparation/Stanford3dDataset_v1.2_Aligned_Version/Area_5/hallway_11/Annotations',\n",
       " '/data/code9/LZDSJTU/pointnet_pytorch/data_preparation/Stanford3dDataset_v1.2_Aligned_Version/Area_5/hallway_12/Annotations',\n",
       " '/data/code9/LZDSJTU/pointnet_pytorch/data_preparation/Stanford3dDataset_v1.2_Aligned_Version/Area_5/hallway_13/Annotations',\n",
       " '/data/code9/LZDSJTU/pointnet_pytorch/data_preparation/Stanford3dDataset_v1.2_Aligned_Version/Area_5/hallway_14/Annotations',\n",
       " '/data/code9/LZDSJTU/pointnet_pytorch/data_preparation/Stanford3dDataset_v1.2_Aligned_Version/Area_5/hallway_15/Annotations',\n",
       " '/data/code9/LZDSJTU/pointnet_pytorch/data_preparation/Stanford3dDataset_v1.2_Aligned_Version/Area_5/hallway_1/Annotations',\n",
       " '/data/code9/LZDSJTU/pointnet_pytorch/data_preparation/Stanford3dDataset_v1.2_Aligned_Version/Area_5/hallway_2/Annotations',\n",
       " '/data/code9/LZDSJTU/pointnet_pytorch/data_preparation/Stanford3dDataset_v1.2_Aligned_Version/Area_5/hallway_3/Annotations',\n",
       " '/data/code9/LZDSJTU/pointnet_pytorch/data_preparation/Stanford3dDataset_v1.2_Aligned_Version/Area_5/hallway_4/Annotations',\n",
       " '/data/code9/LZDSJTU/pointnet_pytorch/data_preparation/Stanford3dDataset_v1.2_Aligned_Version/Area_5/hallway_5/Annotations',\n",
       " '/data/code9/LZDSJTU/pointnet_pytorch/data_preparation/Stanford3dDataset_v1.2_Aligned_Version/Area_5/hallway_6/Annotations',\n",
       " '/data/code9/LZDSJTU/pointnet_pytorch/data_preparation/Stanford3dDataset_v1.2_Aligned_Version/Area_5/hallway_7/Annotations',\n",
       " '/data/code9/LZDSJTU/pointnet_pytorch/data_preparation/Stanford3dDataset_v1.2_Aligned_Version/Area_5/hallway_8/Annotations',\n",
       " '/data/code9/LZDSJTU/pointnet_pytorch/data_preparation/Stanford3dDataset_v1.2_Aligned_Version/Area_5/hallway_9/Annotations',\n",
       " '/data/code9/LZDSJTU/pointnet_pytorch/data_preparation/Stanford3dDataset_v1.2_Aligned_Version/Area_5/lobby_1/Annotations',\n",
       " '/data/code9/LZDSJTU/pointnet_pytorch/data_preparation/Stanford3dDataset_v1.2_Aligned_Version/Area_5/office_10/Annotations',\n",
       " '/data/code9/LZDSJTU/pointnet_pytorch/data_preparation/Stanford3dDataset_v1.2_Aligned_Version/Area_5/office_11/Annotations',\n",
       " '/data/code9/LZDSJTU/pointnet_pytorch/data_preparation/Stanford3dDataset_v1.2_Aligned_Version/Area_5/office_12/Annotations',\n",
       " '/data/code9/LZDSJTU/pointnet_pytorch/data_preparation/Stanford3dDataset_v1.2_Aligned_Version/Area_5/office_13/Annotations',\n",
       " '/data/code9/LZDSJTU/pointnet_pytorch/data_preparation/Stanford3dDataset_v1.2_Aligned_Version/Area_5/office_14/Annotations',\n",
       " '/data/code9/LZDSJTU/pointnet_pytorch/data_preparation/Stanford3dDataset_v1.2_Aligned_Version/Area_5/office_15/Annotations',\n",
       " '/data/code9/LZDSJTU/pointnet_pytorch/data_preparation/Stanford3dDataset_v1.2_Aligned_Version/Area_5/office_16/Annotations',\n",
       " '/data/code9/LZDSJTU/pointnet_pytorch/data_preparation/Stanford3dDataset_v1.2_Aligned_Version/Area_5/office_17/Annotations',\n",
       " '/data/code9/LZDSJTU/pointnet_pytorch/data_preparation/Stanford3dDataset_v1.2_Aligned_Version/Area_5/office_18/Annotations',\n",
       " '/data/code9/LZDSJTU/pointnet_pytorch/data_preparation/Stanford3dDataset_v1.2_Aligned_Version/Area_5/office_19/Annotations',\n",
       " '/data/code9/LZDSJTU/pointnet_pytorch/data_preparation/Stanford3dDataset_v1.2_Aligned_Version/Area_5/office_1/Annotations',\n",
       " '/data/code9/LZDSJTU/pointnet_pytorch/data_preparation/Stanford3dDataset_v1.2_Aligned_Version/Area_5/office_20/Annotations',\n",
       " '/data/code9/LZDSJTU/pointnet_pytorch/data_preparation/Stanford3dDataset_v1.2_Aligned_Version/Area_5/office_21/Annotations',\n",
       " '/data/code9/LZDSJTU/pointnet_pytorch/data_preparation/Stanford3dDataset_v1.2_Aligned_Version/Area_5/office_22/Annotations',\n",
       " '/data/code9/LZDSJTU/pointnet_pytorch/data_preparation/Stanford3dDataset_v1.2_Aligned_Version/Area_5/office_23/Annotations',\n",
       " '/data/code9/LZDSJTU/pointnet_pytorch/data_preparation/Stanford3dDataset_v1.2_Aligned_Version/Area_5/office_24/Annotations',\n",
       " '/data/code9/LZDSJTU/pointnet_pytorch/data_preparation/Stanford3dDataset_v1.2_Aligned_Version/Area_5/office_25/Annotations',\n",
       " '/data/code9/LZDSJTU/pointnet_pytorch/data_preparation/Stanford3dDataset_v1.2_Aligned_Version/Area_5/office_26/Annotations',\n",
       " '/data/code9/LZDSJTU/pointnet_pytorch/data_preparation/Stanford3dDataset_v1.2_Aligned_Version/Area_5/office_27/Annotations',\n",
       " '/data/code9/LZDSJTU/pointnet_pytorch/data_preparation/Stanford3dDataset_v1.2_Aligned_Version/Area_5/office_28/Annotations',\n",
       " '/data/code9/LZDSJTU/pointnet_pytorch/data_preparation/Stanford3dDataset_v1.2_Aligned_Version/Area_5/office_29/Annotations',\n",
       " '/data/code9/LZDSJTU/pointnet_pytorch/data_preparation/Stanford3dDataset_v1.2_Aligned_Version/Area_5/office_2/Annotations',\n",
       " '/data/code9/LZDSJTU/pointnet_pytorch/data_preparation/Stanford3dDataset_v1.2_Aligned_Version/Area_5/office_30/Annotations',\n",
       " '/data/code9/LZDSJTU/pointnet_pytorch/data_preparation/Stanford3dDataset_v1.2_Aligned_Version/Area_5/office_31/Annotations',\n",
       " '/data/code9/LZDSJTU/pointnet_pytorch/data_preparation/Stanford3dDataset_v1.2_Aligned_Version/Area_5/office_32/Annotations',\n",
       " '/data/code9/LZDSJTU/pointnet_pytorch/data_preparation/Stanford3dDataset_v1.2_Aligned_Version/Area_5/office_33/Annotations',\n",
       " '/data/code9/LZDSJTU/pointnet_pytorch/data_preparation/Stanford3dDataset_v1.2_Aligned_Version/Area_5/office_34/Annotations',\n",
       " '/data/code9/LZDSJTU/pointnet_pytorch/data_preparation/Stanford3dDataset_v1.2_Aligned_Version/Area_5/office_35/Annotations',\n",
       " '/data/code9/LZDSJTU/pointnet_pytorch/data_preparation/Stanford3dDataset_v1.2_Aligned_Version/Area_5/office_36/Annotations',\n",
       " '/data/code9/LZDSJTU/pointnet_pytorch/data_preparation/Stanford3dDataset_v1.2_Aligned_Version/Area_5/office_37/Annotations',\n",
       " '/data/code9/LZDSJTU/pointnet_pytorch/data_preparation/Stanford3dDataset_v1.2_Aligned_Version/Area_5/office_38/Annotations',\n",
       " '/data/code9/LZDSJTU/pointnet_pytorch/data_preparation/Stanford3dDataset_v1.2_Aligned_Version/Area_5/office_39/Annotations',\n",
       " '/data/code9/LZDSJTU/pointnet_pytorch/data_preparation/Stanford3dDataset_v1.2_Aligned_Version/Area_5/office_3/Annotations',\n",
       " '/data/code9/LZDSJTU/pointnet_pytorch/data_preparation/Stanford3dDataset_v1.2_Aligned_Version/Area_5/office_40/Annotations',\n",
       " '/data/code9/LZDSJTU/pointnet_pytorch/data_preparation/Stanford3dDataset_v1.2_Aligned_Version/Area_5/office_41/Annotations',\n",
       " '/data/code9/LZDSJTU/pointnet_pytorch/data_preparation/Stanford3dDataset_v1.2_Aligned_Version/Area_5/office_42/Annotations',\n",
       " '/data/code9/LZDSJTU/pointnet_pytorch/data_preparation/Stanford3dDataset_v1.2_Aligned_Version/Area_5/office_4/Annotations',\n",
       " '/data/code9/LZDSJTU/pointnet_pytorch/data_preparation/Stanford3dDataset_v1.2_Aligned_Version/Area_5/office_5/Annotations',\n",
       " '/data/code9/LZDSJTU/pointnet_pytorch/data_preparation/Stanford3dDataset_v1.2_Aligned_Version/Area_5/office_6/Annotations',\n",
       " '/data/code9/LZDSJTU/pointnet_pytorch/data_preparation/Stanford3dDataset_v1.2_Aligned_Version/Area_5/office_7/Annotations',\n",
       " '/data/code9/LZDSJTU/pointnet_pytorch/data_preparation/Stanford3dDataset_v1.2_Aligned_Version/Area_5/office_8/Annotations',\n",
       " '/data/code9/LZDSJTU/pointnet_pytorch/data_preparation/Stanford3dDataset_v1.2_Aligned_Version/Area_5/office_9/Annotations',\n",
       " '/data/code9/LZDSJTU/pointnet_pytorch/data_preparation/Stanford3dDataset_v1.2_Aligned_Version/Area_5/pantry_1/Annotations',\n",
       " '/data/code9/LZDSJTU/pointnet_pytorch/data_preparation/Stanford3dDataset_v1.2_Aligned_Version/Area_5/storage_1/Annotations',\n",
       " '/data/code9/LZDSJTU/pointnet_pytorch/data_preparation/Stanford3dDataset_v1.2_Aligned_Version/Area_5/storage_2/Annotations',\n",
       " '/data/code9/LZDSJTU/pointnet_pytorch/data_preparation/Stanford3dDataset_v1.2_Aligned_Version/Area_5/storage_3/Annotations',\n",
       " '/data/code9/LZDSJTU/pointnet_pytorch/data_preparation/Stanford3dDataset_v1.2_Aligned_Version/Area_5/storage_4/Annotations',\n",
       " '/data/code9/LZDSJTU/pointnet_pytorch/data_preparation/Stanford3dDataset_v1.2_Aligned_Version/Area_5/WC_1/Annotations',\n",
       " '/data/code9/LZDSJTU/pointnet_pytorch/data_preparation/Stanford3dDataset_v1.2_Aligned_Version/Area_5/WC_2/Annotations']"
      ]
     },
     "execution_count": 3,
     "metadata": {},
     "output_type": "execute_result"
    }
   ],
   "source": [
    "anno_paths"
   ]
  },
  {
   "cell_type": "code",
   "execution_count": null,
   "metadata": {},
   "outputs": [],
   "source": []
  }
 ],
 "metadata": {
  "kernelspec": {
   "display_name": "Python 3",
   "language": "python",
   "name": "python3"
  },
  "language_info": {
   "codemirror_mode": {
    "name": "ipython",
    "version": 3
   },
   "file_extension": ".py",
   "mimetype": "text/x-python",
   "name": "python",
   "nbconvert_exporter": "python",
   "pygments_lexer": "ipython3",
   "version": "3.6.3"
  }
 },
 "nbformat": 4,
 "nbformat_minor": 2
}
